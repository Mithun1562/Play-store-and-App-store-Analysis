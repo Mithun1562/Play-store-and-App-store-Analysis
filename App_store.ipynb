{
 "cells": [
  {
   "cell_type": "code",
   "execution_count": null,
   "id": "c69de92d",
   "metadata": {},
   "outputs": [],
   "source": []
  },
  {
   "cell_type": "code",
   "execution_count": 2,
   "id": "4e1bba82",
   "metadata": {},
   "outputs": [],
   "source": [
    "#importing necessary packages\n",
    "import numpy as np\n",
    "import pandas as pd\n",
    "from matplotlib import pyplot as plt\n"
   ]
  },
  {
   "cell_type": "code",
   "execution_count": 14,
   "id": "e039445a",
   "metadata": {},
   "outputs": [
    {
     "data": {
      "text/html": [
       "<div>\n",
       "<style scoped>\n",
       "    .dataframe tbody tr th:only-of-type {\n",
       "        vertical-align: middle;\n",
       "    }\n",
       "\n",
       "    .dataframe tbody tr th {\n",
       "        vertical-align: top;\n",
       "    }\n",
       "\n",
       "    .dataframe thead th {\n",
       "        text-align: right;\n",
       "    }\n",
       "</style>\n",
       "<table border=\"1\" class=\"dataframe\">\n",
       "  <thead>\n",
       "    <tr style=\"text-align: right;\">\n",
       "      <th></th>\n",
       "      <th>id</th>\n",
       "      <th>track_name</th>\n",
       "      <th>size_bytes</th>\n",
       "      <th>currency</th>\n",
       "      <th>price</th>\n",
       "      <th>rating_count_tot</th>\n",
       "      <th>rating_count_ver</th>\n",
       "      <th>user_rating</th>\n",
       "      <th>user_rating_ver</th>\n",
       "      <th>ver</th>\n",
       "      <th>cont_rating</th>\n",
       "      <th>prime_genre</th>\n",
       "      <th>sup_devices.num</th>\n",
       "      <th>ipadSc_urls.num</th>\n",
       "      <th>lang.num</th>\n",
       "      <th>vpp_lic</th>\n",
       "    </tr>\n",
       "  </thead>\n",
       "  <tbody>\n",
       "    <tr>\n",
       "      <th>1</th>\n",
       "      <td>281656475</td>\n",
       "      <td>PAC-MAN Premium</td>\n",
       "      <td>100788224</td>\n",
       "      <td>USD</td>\n",
       "      <td>3.99</td>\n",
       "      <td>21292</td>\n",
       "      <td>26</td>\n",
       "      <td>4.0</td>\n",
       "      <td>4.5</td>\n",
       "      <td>6.3.5</td>\n",
       "      <td>4+</td>\n",
       "      <td>Games</td>\n",
       "      <td>38</td>\n",
       "      <td>5</td>\n",
       "      <td>10</td>\n",
       "      <td>1</td>\n",
       "    </tr>\n",
       "    <tr>\n",
       "      <th>2</th>\n",
       "      <td>281796108</td>\n",
       "      <td>Evernote - stay organized</td>\n",
       "      <td>158578688</td>\n",
       "      <td>USD</td>\n",
       "      <td>0.00</td>\n",
       "      <td>161065</td>\n",
       "      <td>26</td>\n",
       "      <td>4.0</td>\n",
       "      <td>3.5</td>\n",
       "      <td>8.2.2</td>\n",
       "      <td>4+</td>\n",
       "      <td>Productivity</td>\n",
       "      <td>37</td>\n",
       "      <td>5</td>\n",
       "      <td>23</td>\n",
       "      <td>1</td>\n",
       "    </tr>\n",
       "    <tr>\n",
       "      <th>3</th>\n",
       "      <td>281940292</td>\n",
       "      <td>WeatherBug - Local Weather, Radar, Maps, Alerts</td>\n",
       "      <td>100524032</td>\n",
       "      <td>USD</td>\n",
       "      <td>0.00</td>\n",
       "      <td>188583</td>\n",
       "      <td>2822</td>\n",
       "      <td>3.5</td>\n",
       "      <td>4.5</td>\n",
       "      <td>5.0.0</td>\n",
       "      <td>4+</td>\n",
       "      <td>Weather</td>\n",
       "      <td>37</td>\n",
       "      <td>5</td>\n",
       "      <td>3</td>\n",
       "      <td>1</td>\n",
       "    </tr>\n",
       "    <tr>\n",
       "      <th>4</th>\n",
       "      <td>282614216</td>\n",
       "      <td>eBay: Best App to Buy, Sell, Save! Online Shop...</td>\n",
       "      <td>128512000</td>\n",
       "      <td>USD</td>\n",
       "      <td>0.00</td>\n",
       "      <td>262241</td>\n",
       "      <td>649</td>\n",
       "      <td>4.0</td>\n",
       "      <td>4.5</td>\n",
       "      <td>5.10.0</td>\n",
       "      <td>12+</td>\n",
       "      <td>Shopping</td>\n",
       "      <td>37</td>\n",
       "      <td>5</td>\n",
       "      <td>9</td>\n",
       "      <td>1</td>\n",
       "    </tr>\n",
       "    <tr>\n",
       "      <th>5</th>\n",
       "      <td>282935706</td>\n",
       "      <td>Bible</td>\n",
       "      <td>92774400</td>\n",
       "      <td>USD</td>\n",
       "      <td>0.00</td>\n",
       "      <td>985920</td>\n",
       "      <td>5320</td>\n",
       "      <td>4.5</td>\n",
       "      <td>5.0</td>\n",
       "      <td>7.5.1</td>\n",
       "      <td>4+</td>\n",
       "      <td>Reference</td>\n",
       "      <td>37</td>\n",
       "      <td>5</td>\n",
       "      <td>45</td>\n",
       "      <td>1</td>\n",
       "    </tr>\n",
       "  </tbody>\n",
       "</table>\n",
       "</div>"
      ],
      "text/plain": [
       "          id                                         track_name  size_bytes  \\\n",
       "1  281656475                                    PAC-MAN Premium   100788224   \n",
       "2  281796108                          Evernote - stay organized   158578688   \n",
       "3  281940292    WeatherBug - Local Weather, Radar, Maps, Alerts   100524032   \n",
       "4  282614216  eBay: Best App to Buy, Sell, Save! Online Shop...   128512000   \n",
       "5  282935706                                              Bible    92774400   \n",
       "\n",
       "  currency  price  rating_count_tot  rating_count_ver  user_rating  \\\n",
       "1      USD   3.99             21292                26          4.0   \n",
       "2      USD   0.00            161065                26          4.0   \n",
       "3      USD   0.00            188583              2822          3.5   \n",
       "4      USD   0.00            262241               649          4.0   \n",
       "5      USD   0.00            985920              5320          4.5   \n",
       "\n",
       "   user_rating_ver     ver cont_rating   prime_genre  sup_devices.num  \\\n",
       "1              4.5   6.3.5          4+         Games               38   \n",
       "2              3.5   8.2.2          4+  Productivity               37   \n",
       "3              4.5   5.0.0          4+       Weather               37   \n",
       "4              4.5  5.10.0         12+      Shopping               37   \n",
       "5              5.0   7.5.1          4+     Reference               37   \n",
       "\n",
       "   ipadSc_urls.num  lang.num  vpp_lic  \n",
       "1                5        10        1  \n",
       "2                5        23        1  \n",
       "3                5         3        1  \n",
       "4                5         9        1  \n",
       "5                5        45        1  "
      ]
     },
     "execution_count": 14,
     "metadata": {},
     "output_type": "execute_result"
    }
   ],
   "source": [
    "#No null values\n",
    "app_store = pd.read_csv('C:\\\\Users\\\\Mithunsomu\\\\Downloads\\\\AppleStore.csv',sep=',',index_col=0)\n",
    "app_store.head()"
   ]
  },
  {
   "cell_type": "code",
   "execution_count": 5,
   "id": "1e80cd56",
   "metadata": {},
   "outputs": [
    {
     "name": "stdout",
     "output_type": "stream",
     "text": [
      "<class 'pandas.core.frame.DataFrame'>\n",
      "RangeIndex: 7197 entries, 0 to 7196\n",
      "Data columns (total 17 columns):\n",
      " #   Column            Non-Null Count  Dtype  \n",
      "---  ------            --------------  -----  \n",
      " 0   Unnamed: 0        7197 non-null   int64  \n",
      " 1   id                7197 non-null   int64  \n",
      " 2   track_name        7197 non-null   object \n",
      " 3   size_bytes        7197 non-null   int64  \n",
      " 4   currency          7197 non-null   object \n",
      " 5   price             7197 non-null   float64\n",
      " 6   rating_count_tot  7197 non-null   int64  \n",
      " 7   rating_count_ver  7197 non-null   int64  \n",
      " 8   user_rating       7197 non-null   float64\n",
      " 9   user_rating_ver   7197 non-null   float64\n",
      " 10  ver               7197 non-null   object \n",
      " 11  cont_rating       7197 non-null   object \n",
      " 12  prime_genre       7197 non-null   object \n",
      " 13  sup_devices.num   7197 non-null   int64  \n",
      " 14  ipadSc_urls.num   7197 non-null   int64  \n",
      " 15  lang.num          7197 non-null   int64  \n",
      " 16  vpp_lic           7197 non-null   int64  \n",
      "dtypes: float64(3), int64(9), object(5)\n",
      "memory usage: 956.0+ KB\n"
     ]
    }
   ],
   "source": [
    "app_store.info()"
   ]
  },
  {
   "cell_type": "code",
   "execution_count": 19,
   "id": "d443bda3",
   "metadata": {},
   "outputs": [],
   "source": [
    "#Removing the track_name having Non English Values\n",
    "\n",
    "app_store['track_name'] = app_store['track_name'].apply(lambda row: row.encode('ascii',errors='ignore').decode())\n",
    "\n",
    "app_store['track_name']=app_store['track_name'].replace(['-','--'],'Random App')\n"
   ]
  },
  {
   "cell_type": "code",
   "execution_count": 20,
   "id": "3e68da2e",
   "metadata": {},
   "outputs": [
    {
     "data": {
      "text/plain": [
       "True     4056\n",
       "False    3141\n",
       "Name: price, dtype: int64"
      ]
     },
     "execution_count": 20,
     "metadata": {},
     "output_type": "execute_result"
    }
   ],
   "source": [
    "(app_store.price==0).value_counts()"
   ]
  },
  {
   "cell_type": "code",
   "execution_count": 21,
   "id": "c9f21eda",
   "metadata": {},
   "outputs": [
    {
     "data": {
      "text/plain": [
       "4056"
      ]
     },
     "execution_count": 21,
     "metadata": {},
     "output_type": "execute_result"
    }
   ],
   "source": [
    "free_apps=(app_store.price==0).sum()\n",
    "free_apps"
   ]
  },
  {
   "cell_type": "code",
   "execution_count": 22,
   "id": "9e454ad8",
   "metadata": {},
   "outputs": [
    {
     "data": {
      "text/plain": [
       "3141"
      ]
     },
     "execution_count": 22,
     "metadata": {},
     "output_type": "execute_result"
    }
   ],
   "source": [
    "paid_apps=(app_store.price>0).sum()\n",
    "paid_apps"
   ]
  },
  {
   "cell_type": "code",
   "execution_count": 23,
   "id": "05cb6933",
   "metadata": {},
   "outputs": [
    {
     "data": {
      "text/plain": [
       "43.64318466027511"
      ]
     },
     "execution_count": 23,
     "metadata": {},
     "output_type": "execute_result"
    }
   ],
   "source": [
    "paid_apps_percent = (paid_apps/len(app_store))*100\n",
    "paid_apps_percent"
   ]
  },
  {
   "cell_type": "code",
   "execution_count": 24,
   "id": "b8b753c4",
   "metadata": {},
   "outputs": [
    {
     "data": {
      "text/plain": [
       "56.35681533972489"
      ]
     },
     "execution_count": 24,
     "metadata": {},
     "output_type": "execute_result"
    }
   ],
   "source": [
    "free_apps_percent = (free_apps/len(app_store))*100\n",
    "free_apps_percent"
   ]
  },
  {
   "cell_type": "code",
   "execution_count": 26,
   "id": "faa171aa",
   "metadata": {},
   "outputs": [
    {
     "data": {
      "text/plain": [
       "43.64318466027511"
      ]
     },
     "execution_count": 26,
     "metadata": {},
     "output_type": "execute_result"
    }
   ],
   "source": [
    "paid_apps_percent=paid_apps/len(app_store.price)*100\n",
    "paid_apps_percent"
   ]
  },
  {
   "cell_type": "code",
   "execution_count": 27,
   "id": "3b38acfe",
   "metadata": {},
   "outputs": [
    {
     "data": {
      "text/plain": [
       "4+     4433\n",
       "12+    1155\n",
       "9+      987\n",
       "17+     622\n",
       "Name: cont_rating, dtype: int64"
      ]
     },
     "execution_count": 27,
     "metadata": {},
     "output_type": "execute_result"
    }
   ],
   "source": [
    "app_store['cont_rating'].value_counts()"
   ]
  },
  {
   "cell_type": "code",
   "execution_count": 28,
   "id": "6b8a7188",
   "metadata": {},
   "outputs": [
    {
     "data": {
      "text/plain": [
       "True    7197\n",
       "Name: track_name, dtype: int64"
      ]
     },
     "execution_count": 28,
     "metadata": {},
     "output_type": "execute_result"
    }
   ],
   "source": [
    "#Checking if the column 'track_name' has all ASCII values\n",
    "app_store['track_name'].map(lambda x:x.isascii()).value_counts()"
   ]
  },
  {
   "cell_type": "code",
   "execution_count": 29,
   "id": "5614bd3a",
   "metadata": {},
   "outputs": [
    {
     "name": "stdout",
     "output_type": "stream",
     "text": [
      "Free apps are : 4056\n",
      "Super expensive apps : 7\n",
      "Which is about 0.09726274836737529\n"
     ]
    },
    {
     "data": {
      "text/html": [
       "<div>\n",
       "<style scoped>\n",
       "    .dataframe tbody tr th:only-of-type {\n",
       "        vertical-align: middle;\n",
       "    }\n",
       "\n",
       "    .dataframe tbody tr th {\n",
       "        vertical-align: top;\n",
       "    }\n",
       "\n",
       "    .dataframe thead th {\n",
       "        text-align: right;\n",
       "    }\n",
       "</style>\n",
       "<table border=\"1\" class=\"dataframe\">\n",
       "  <thead>\n",
       "    <tr style=\"text-align: right;\">\n",
       "      <th></th>\n",
       "      <th>track_name</th>\n",
       "      <th>price</th>\n",
       "      <th>prime_genre</th>\n",
       "      <th>user_rating</th>\n",
       "    </tr>\n",
       "  </thead>\n",
       "  <tbody>\n",
       "    <tr>\n",
       "      <th>129</th>\n",
       "      <td>Proloquo2Go - Symbol-based AAC</td>\n",
       "      <td>249.99</td>\n",
       "      <td>Education</td>\n",
       "      <td>4.0</td>\n",
       "    </tr>\n",
       "    <tr>\n",
       "      <th>184</th>\n",
       "      <td>NAVIGON Europe</td>\n",
       "      <td>74.99</td>\n",
       "      <td>Navigation</td>\n",
       "      <td>3.5</td>\n",
       "    </tr>\n",
       "    <tr>\n",
       "      <th>1324</th>\n",
       "      <td>Articulation Station Pro</td>\n",
       "      <td>59.99</td>\n",
       "      <td>Education</td>\n",
       "      <td>4.5</td>\n",
       "    </tr>\n",
       "    <tr>\n",
       "      <th>1714</th>\n",
       "      <td>LAMP Words For Life</td>\n",
       "      <td>299.99</td>\n",
       "      <td>Education</td>\n",
       "      <td>4.0</td>\n",
       "    </tr>\n",
       "    <tr>\n",
       "      <th>2541</th>\n",
       "      <td>Articulation Test Center Pro</td>\n",
       "      <td>59.99</td>\n",
       "      <td>Education</td>\n",
       "      <td>4.5</td>\n",
       "    </tr>\n",
       "    <tr>\n",
       "      <th>3043</th>\n",
       "      <td>KNFB Reader</td>\n",
       "      <td>99.99</td>\n",
       "      <td>Productivity</td>\n",
       "      <td>4.5</td>\n",
       "    </tr>\n",
       "    <tr>\n",
       "      <th>3899</th>\n",
       "      <td>FineScanner Pro - PDF Document Scanner App + OCR</td>\n",
       "      <td>59.99</td>\n",
       "      <td>Business</td>\n",
       "      <td>4.0</td>\n",
       "    </tr>\n",
       "  </tbody>\n",
       "</table>\n",
       "</div>"
      ],
      "text/plain": [
       "                                            track_name   price   prime_genre  \\\n",
       "129                     Proloquo2Go - Symbol-based AAC  249.99     Education   \n",
       "184                                     NAVIGON Europe   74.99    Navigation   \n",
       "1324                          Articulation Station Pro   59.99     Education   \n",
       "1714                               LAMP Words For Life  299.99     Education   \n",
       "2541                      Articulation Test Center Pro   59.99     Education   \n",
       "3043                                       KNFB Reader   99.99  Productivity   \n",
       "3899  FineScanner Pro - PDF Document Scanner App + OCR   59.99      Business   \n",
       "\n",
       "      user_rating  \n",
       "129           4.0  \n",
       "184           3.5  \n",
       "1324          4.5  \n",
       "1714          4.0  \n",
       "2541          4.5  \n",
       "3043          4.5  \n",
       "3899          4.0  "
      ]
     },
     "execution_count": 29,
     "metadata": {},
     "output_type": "execute_result"
    }
   ],
   "source": [
    "print('Free apps are :',str(sum(app_store.price==0)))\n",
    "print('Super expensive apps :',str(sum(app_store.price>50)))\n",
    "print('Which is about',sum(app_store.price>50)/len(app_store.price)*100)\n",
    "outliers=app_store[app_store.price>50][['track_name','price','prime_genre','user_rating']]\n",
    "outliers\n"
   ]
  },
  {
   "cell_type": "code",
   "execution_count": 19,
   "id": "214e3a13",
   "metadata": {},
   "outputs": [
    {
     "data": {
      "text/plain": [
       "id                  0\n",
       "track_name          0\n",
       "size_bytes          0\n",
       "currency            0\n",
       "price               0\n",
       "rating_count_tot    0\n",
       "rating_count_ver    0\n",
       "user_rating         0\n",
       "user_rating_ver     0\n",
       "ver                 0\n",
       "cont_rating         0\n",
       "prime_genre         0\n",
       "sup_devices.num     0\n",
       "ipadSc_urls.num     0\n",
       "lang.num            0\n",
       "vpp_lic             0\n",
       "dtype: int64"
      ]
     },
     "execution_count": 19,
     "metadata": {},
     "output_type": "execute_result"
    }
   ],
   "source": [
    "#Checking if there are any remaning null values\n",
    "app_store.isnull().sum()"
   ]
  },
  {
   "cell_type": "code",
   "execution_count": null,
   "id": "16031220",
   "metadata": {},
   "outputs": [],
   "source": []
  },
  {
   "cell_type": "code",
   "execution_count": 32,
   "id": "9569525d",
   "metadata": {},
   "outputs": [],
   "source": [
    "#Removing '+' sign from the column to change it's type to int\n",
    "app_store['cont_rating']=app_store['cont_rating'].replace({'\\+':''},regex=True)\n"
   ]
  },
  {
   "cell_type": "code",
   "execution_count": 33,
   "id": "e931df89",
   "metadata": {},
   "outputs": [
    {
     "name": "stdout",
     "output_type": "stream",
     "text": [
      "<class 'pandas.core.frame.DataFrame'>\n",
      "Int64Index: 7197 entries, 1 to 11097\n",
      "Data columns (total 16 columns):\n",
      " #   Column            Non-Null Count  Dtype  \n",
      "---  ------            --------------  -----  \n",
      " 0   id                7197 non-null   int64  \n",
      " 1   track_name        7197 non-null   object \n",
      " 2   size_bytes        7197 non-null   int64  \n",
      " 3   currency          7197 non-null   object \n",
      " 4   price             7197 non-null   float64\n",
      " 5   rating_count_tot  7197 non-null   int64  \n",
      " 6   rating_count_ver  7197 non-null   int64  \n",
      " 7   user_rating       7197 non-null   float64\n",
      " 8   user_rating_ver   7197 non-null   float64\n",
      " 9   ver               7197 non-null   object \n",
      " 10  cont_rating       7197 non-null   int64  \n",
      " 11  prime_genre       7197 non-null   object \n",
      " 12  sup_devices.num   7197 non-null   int64  \n",
      " 13  ipadSc_urls.num   7197 non-null   int64  \n",
      " 14  lang.num          7197 non-null   int64  \n",
      " 15  vpp_lic           7197 non-null   int64  \n",
      "dtypes: float64(3), int64(9), object(4)\n",
      "memory usage: 955.9+ KB\n"
     ]
    }
   ],
   "source": [
    "#Changing the Data type from object to int to \n",
    "app_store['cont_rating']=app_store['cont_rating'].astype('int64')\n",
    "app_store.info()\n"
   ]
  },
  {
   "cell_type": "code",
   "execution_count": null,
   "id": "c0acef2f",
   "metadata": {},
   "outputs": [],
   "source": []
  },
  {
   "cell_type": "code",
   "execution_count": 34,
   "id": "c7a0f819",
   "metadata": {},
   "outputs": [
    {
     "data": {
      "text/plain": [
       "id                  0\n",
       "track_name          0\n",
       "size_bytes          0\n",
       "currency            0\n",
       "price               0\n",
       "rating_count_tot    0\n",
       "rating_count_ver    0\n",
       "user_rating         0\n",
       "user_rating_ver     0\n",
       "ver                 0\n",
       "cont_rating         0\n",
       "prime_genre         0\n",
       "sup_devices.num     0\n",
       "ipadSc_urls.num     0\n",
       "lang.num            0\n",
       "vpp_lic             0\n",
       "dtype: int64"
      ]
     },
     "execution_count": 34,
     "metadata": {},
     "output_type": "execute_result"
    }
   ],
   "source": [
    "(app_store.loc[:]==np.NAN).sum()\n"
   ]
  },
  {
   "cell_type": "code",
   "execution_count": 37,
   "id": "08fc7f3d",
   "metadata": {},
   "outputs": [],
   "source": []
  },
  {
   "cell_type": "code",
   "execution_count": 38,
   "id": "409af003",
   "metadata": {},
   "outputs": [
    {
     "name": "stdout",
     "output_type": "stream",
     "text": [
      "<class 'pandas.core.frame.DataFrame'>\n",
      "Int64Index: 7197 entries, 1 to 11097\n",
      "Data columns (total 16 columns):\n",
      " #   Column            Non-Null Count  Dtype  \n",
      "---  ------            --------------  -----  \n",
      " 0   id                7197 non-null   int64  \n",
      " 1   track_name        7197 non-null   object \n",
      " 2   size_bytes        7197 non-null   int64  \n",
      " 3   currency          7197 non-null   object \n",
      " 4   price             7197 non-null   float64\n",
      " 5   rating_count_tot  7197 non-null   int64  \n",
      " 6   rating_count_ver  7197 non-null   int64  \n",
      " 7   user_rating       7197 non-null   float64\n",
      " 8   user_rating_ver   7197 non-null   float64\n",
      " 9   ver               7197 non-null   object \n",
      " 10  cont_rating       7197 non-null   int64  \n",
      " 11  prime_genre       7197 non-null   object \n",
      " 12  sup_devices.num   7197 non-null   int64  \n",
      " 13  ipadSc_urls.num   7197 non-null   int64  \n",
      " 14  lang.num          7197 non-null   int64  \n",
      " 15  vpp_lic           7197 non-null   int64  \n",
      "dtypes: float64(3), int64(9), object(4)\n",
      "memory usage: 955.9+ KB\n"
     ]
    }
   ],
   "source": [
    "app_store.info()"
   ]
  },
  {
   "cell_type": "code",
   "execution_count": 39,
   "id": "65b1f27d",
   "metadata": {},
   "outputs": [
    {
     "data": {
      "text/html": [
       "<div>\n",
       "<style scoped>\n",
       "    .dataframe tbody tr th:only-of-type {\n",
       "        vertical-align: middle;\n",
       "    }\n",
       "\n",
       "    .dataframe tbody tr th {\n",
       "        vertical-align: top;\n",
       "    }\n",
       "\n",
       "    .dataframe thead th {\n",
       "        text-align: right;\n",
       "    }\n",
       "</style>\n",
       "<table border=\"1\" class=\"dataframe\">\n",
       "  <thead>\n",
       "    <tr style=\"text-align: right;\">\n",
       "      <th></th>\n",
       "      <th>id</th>\n",
       "      <th>track_name</th>\n",
       "      <th>size_bytes</th>\n",
       "      <th>currency</th>\n",
       "      <th>price</th>\n",
       "      <th>rating_count_tot</th>\n",
       "      <th>rating_count_ver</th>\n",
       "      <th>user_rating</th>\n",
       "      <th>user_rating_ver</th>\n",
       "      <th>ver</th>\n",
       "      <th>cont_rating</th>\n",
       "      <th>prime_genre</th>\n",
       "      <th>sup_devices.num</th>\n",
       "      <th>ipadSc_urls.num</th>\n",
       "      <th>lang.num</th>\n",
       "      <th>vpp_lic</th>\n",
       "    </tr>\n",
       "  </thead>\n",
       "  <tbody>\n",
       "    <tr>\n",
       "      <th>1714</th>\n",
       "      <td>551215116</td>\n",
       "      <td>LAMP Words For Life</td>\n",
       "      <td>583263232</td>\n",
       "      <td>USD</td>\n",
       "      <td>299.99</td>\n",
       "      <td>41</td>\n",
       "      <td>0</td>\n",
       "      <td>4.0</td>\n",
       "      <td>0.0</td>\n",
       "      <td>1.5.5</td>\n",
       "      <td>4</td>\n",
       "      <td>Education</td>\n",
       "      <td>24</td>\n",
       "      <td>5</td>\n",
       "      <td>1</td>\n",
       "      <td>1</td>\n",
       "    </tr>\n",
       "  </tbody>\n",
       "</table>\n",
       "</div>"
      ],
      "text/plain": [
       "             id           track_name  size_bytes currency   price  \\\n",
       "1714  551215116  LAMP Words For Life   583263232      USD  299.99   \n",
       "\n",
       "      rating_count_tot  rating_count_ver  user_rating  user_rating_ver    ver  \\\n",
       "1714                41                 0          4.0              0.0  1.5.5   \n",
       "\n",
       "      cont_rating prime_genre  sup_devices.num  ipadSc_urls.num  lang.num  \\\n",
       "1714            4   Education               24                5         1   \n",
       "\n",
       "      vpp_lic  \n",
       "1714        1  "
      ]
     },
     "execution_count": 39,
     "metadata": {},
     "output_type": "execute_result"
    }
   ],
   "source": [
    "#Checking the highest paid app in the app_store dataset\n",
    "max(app_store.price)\n",
    "#Above code output $299.99\n",
    "app_store[app_store.price==299.99]"
   ]
  },
  {
   "cell_type": "code",
   "execution_count": null,
   "id": "de6bea13",
   "metadata": {},
   "outputs": [],
   "source": []
  },
  {
   "cell_type": "code",
   "execution_count": 40,
   "id": "7d542cb3",
   "metadata": {},
   "outputs": [
    {
     "data": {
      "image/png": "[encoded data removed]",
      "text/plain": [
       "<Figure size 1080x1080 with 1 Axes>"
      ]
     },
     "metadata": {},
     "output_type": "display_data"
    }
   ],
   "source": [
    "#BlueOrangeWapang = ['#fc910d','#fcb13e','#239cd3','#1674b1','#ed6d50']\n",
    "plt.figure(figsize=(15,15))\n",
    "label_names=app_store.prime_genre.value_counts().index\n",
    "size = app_store.prime_genre.value_counts().tolist()\n",
    "plt.pie(size, labels=label_names)#, colors=BlueOrangeWapang)\n",
    "\n",
    "\n",
    "plt.show()\n",
    "\n",
    "#3862 apps are games - 3862/7197*100 = 53.66%\n",
    "#573 - Entertainment - 573/7197*100 = 7.96%\n",
    "#453 - Education - 453/7197*100 = 6.29%\n",
    "#2309 - Others - 2309/7197*100 = 32%"
   ]
  },
  {
   "cell_type": "code",
   "execution_count": 44,
   "id": "42733779",
   "metadata": {},
   "outputs": [
    {
     "data": {
      "text/plain": [
       "312.9130434782609"
      ]
     },
     "execution_count": 44,
     "metadata": {},
     "output_type": "execute_result"
    }
   ],
   "source": []
  },
  {
   "cell_type": "code",
   "execution_count": 41,
   "id": "5c6c5041",
   "metadata": {},
   "outputs": [
    {
     "data": {
      "image/png": "[encoded data removed]",
      "text/plain": [
       "<Figure size 432x288 with 1 Axes>"
      ]
     },
     "metadata": {
      "needs_background": "light"
     },
     "output_type": "display_data"
    }
   ],
   "source": [
    "#Ratings\n",
    "dic={'ratings':app_store.user_rating.value_counts().index,\n",
    "     'No of rated':app_store.user_rating.value_counts().tolist()}\n",
    "df=pd.DataFrame(dic)\n",
    "df.plot(x='ratings',y='No of rated',kind='bar')\n",
    "plt.show()"
   ]
  },
  {
   "cell_type": "code",
   "execution_count": 42,
   "id": "ceea4863",
   "metadata": {},
   "outputs": [
    {
     "data": {
      "text/plain": [
       "<Figure size 7200x7200 with 0 Axes>"
      ]
     },
     "metadata": {},
     "output_type": "display_data"
    },
    {
     "data": {
      "image/png": "[encoded data removed]",
      "text/plain": [
       "<Figure size 432x288 with 1 Axes>"
      ]
     },
     "metadata": {
      "needs_background": "light"
     },
     "output_type": "display_data"
    }
   ],
   "source": [
    "plt.figure(figsize=(100,100))\n",
    "price=app_store.price.value_counts().index\n",
    "value=app_store.price.value_counts().tolist()\n",
    "dic={'price':price,'value':value}\n",
    "df=pd.DataFrame(dic)\n",
    "\n",
    "df.plot('price','value',kind='bar')\n",
    "plt.show()"
   ]
  },
  {
   "cell_type": "code",
   "execution_count": 45,
   "id": "f16aee32",
   "metadata": {},
   "outputs": [
    {
     "data": {
      "text/plain": [
       "<Figure size 7200x7200 with 0 Axes>"
      ]
     },
     "metadata": {},
     "output_type": "display_data"
    },
    {
     "data": {
      "image/png": "[encoded data removed]",
      "text/plain": [
       "<Figure size 432x288 with 1 Axes>"
      ]
     },
     "metadata": {
      "needs_background": "light"
     },
     "output_type": "display_data"
    }
   ],
   "source": [
    "plt.figure(figsize=(100,100))\n",
    "price=app_store.price.value_counts().index\n",
    "value=app_store.price.value_counts().tolist()\n",
    "dic={'price':price,'value':value}\n",
    "df=pd.DataFrame(dic)\n",
    "\n",
    "df.plot('price','value',kind='line')\n",
    "\n",
    "plt.show()"
   ]
  },
  {
   "cell_type": "code",
   "execution_count": null,
   "id": "e6adb279",
   "metadata": {},
   "outputs": [],
   "source": []
  },
  {
   "cell_type": "code",
   "execution_count": 46,
   "id": "79a45144",
   "metadata": {},
   "outputs": [
    {
     "data": {
      "text/plain": [
       "<Figure size 7200x7200 with 0 Axes>"
      ]
     },
     "metadata": {},
     "output_type": "display_data"
    },
    {
     "data": {
      "image/png": "[encoded data removed]",
      "text/plain": [
       "<Figure size 432x288 with 1 Axes>"
      ]
     },
     "metadata": {
      "needs_background": "light"
     },
     "output_type": "display_data"
    }
   ],
   "source": [
    "#Drawing a Kenrel density graph to know the density changes\n",
    "plt.figure(figsize=(100,100))\n",
    "price=app_store.price.value_counts().index\n",
    "value=app_store.price.value_counts().tolist()\n",
    "dic={'price':price,'value':value}\n",
    "df=pd.DataFrame(dic)\n",
    "\n",
    "df.plot('price','value',kind='kde')\n",
    "plt.show()"
   ]
  },
  {
   "cell_type": "code",
   "execution_count": 47,
   "id": "b7a06ce6",
   "metadata": {},
   "outputs": [
    {
     "data": {
      "text/plain": [
       "<matplotlib.collections.PathCollection at 0x1a8857a7640>"
      ]
     },
     "execution_count": 47,
     "metadata": {},
     "output_type": "execute_result"
    },
    {
     "data": {
      "image/png": "[encoded data removed]",
      "text/plain": [
       "<Figure size 1440x1440 with 1 Axes>"
      ]
     },
     "metadata": {
      "needs_background": "light"
     },
     "output_type": "display_data"
    }
   ],
   "source": [
    "\n",
    "#Drawing a scatterplot to know the prices of the categories in the prime_genre \n",
    "plt.figure(figsize=(20,20))\n",
    "\n",
    "plt.scatter(app_store.prime_genre,app_store.price)"
   ]
  },
  {
   "cell_type": "code",
   "execution_count": null,
   "id": "fe61d626",
   "metadata": {},
   "outputs": [],
   "source": []
  }
 ],
 "metadata": {
  "kernelspec": {
   "display_name": "Python 3 (ipykernel)",
   "language": "python",
   "name": "python3"
  },
  "language_info": {
   "codemirror_mode": {
    "name": "ipython",
    "version": 3
   },
   "file_extension": ".py",
   "mimetype": "text/x-python",
   "name": "python",
   "nbconvert_exporter": "python",
   "pygments_lexer": "ipython3",
   "version": "3.9.12"
  }
 },
 "nbformat": 4,
 "nbformat_minor": 5
}
